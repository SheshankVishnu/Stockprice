{
 "cells": [
  {
   "cell_type": "code",
   "execution_count": 1,
   "id": "e8db4c8a",
   "metadata": {},
   "outputs": [],
   "source": [
    "import pandas as pd\n",
    "import numpy as np\n",
    "import matplotlib as plt"
   ]
  },
  {
   "cell_type": "code",
   "execution_count": 2,
   "id": "b89ceb0e",
   "metadata": {},
   "outputs": [
    {
     "name": "stdout",
     "output_type": "stream",
     "text": [
      "599 1\n"
     ]
    }
   ],
   "source": [
    "data = pd.read_csv(\"TSLA.csv\")\n",
    "\n",
    "X  = data.iloc[:,3].values\n",
    "X = np.reshape(X,(len(X),1))\n",
    "\n",
    "[m,n] = (np.shape(X))\n",
    "print(m,n)"
   ]
  },
  {
   "cell_type": "code",
   "execution_count": 3,
   "id": "fd3cfa62",
   "metadata": {},
   "outputs": [],
   "source": [
    "from sklearn.preprocessing import MinMaxScaler\n",
    "scaler = MinMaxScaler(feature_range = (0,1))\n",
    "scaled_data = scaler.fit_transform(X)"
   ]
  },
  {
   "cell_type": "code",
   "execution_count": 4,
   "id": "a622a3f0",
   "metadata": {},
   "outputs": [],
   "source": [
    "x_train = []\n",
    "y_train = []\n",
    "for i in range(60,m):\n",
    "    x_train.append(scaled_data[i-60:i,0])\n",
    "    y_train.append(scaled_data[i,0])\n",
    "\n",
    "x_train = np.array(x_train)\n",
    "y_train = np.array(y_train)"
   ]
  },
  {
   "cell_type": "code",
   "execution_count": 5,
   "id": "6ff2899a",
   "metadata": {},
   "outputs": [
    {
     "data": {
      "text/plain": [
       "(539, 60)"
      ]
     },
     "execution_count": 5,
     "metadata": {},
     "output_type": "execute_result"
    }
   ],
   "source": [
    "np.shape(x_train)"
   ]
  },
  {
   "cell_type": "code",
   "execution_count": 6,
   "id": "e8893cc3",
   "metadata": {},
   "outputs": [
    {
     "data": {
      "text/plain": [
       "(539, 60, 1)"
      ]
     },
     "execution_count": 6,
     "metadata": {},
     "output_type": "execute_result"
    }
   ],
   "source": [
    "x_train = np.reshape(x_train,(x_train.shape[0],x_train.shape[1],1))\n",
    "x_train.shape"
   ]
  },
  {
   "cell_type": "code",
   "execution_count": 7,
   "id": "ad04d1cb",
   "metadata": {},
   "outputs": [],
   "source": [
    "from keras.models import Sequential\n",
    "from keras.layers import Dense\n",
    "from keras.layers import LSTM"
   ]
  },
  {
   "cell_type": "code",
   "execution_count": 8,
   "id": "dc7a5f1d",
   "metadata": {},
   "outputs": [],
   "source": [
    "regressor = Sequential()\n",
    "regressor.add(LSTM(units = 50, return_sequences = True, input_shape = (x_train.shape[1],1)))\n",
    "regressor.add(LSTM(units = 50, return_sequences = True))\n",
    "regressor.add(LSTM(units = 50, return_sequences = True))\n",
    "regressor.add(LSTM(units = 50))\n",
    "regressor.add(Dense(units = 1))"
   ]
  },
  {
   "cell_type": "code",
   "execution_count": 10,
   "id": "e864fd4f",
   "metadata": {},
   "outputs": [
    {
     "name": "stdout",
     "output_type": "stream",
     "text": [
      "Epoch 1/100\n",
      "17/17 [==============================] - 7s 100ms/step - loss: 0.0114\n",
      "Epoch 2/100\n",
      "17/17 [==============================] - 2s 95ms/step - loss: 0.0055\n",
      "Epoch 3/100\n",
      "17/17 [==============================] - 2s 99ms/step - loss: 0.0040\n",
      "Epoch 4/100\n",
      "17/17 [==============================] - 2s 115ms/step - loss: 0.0037\n",
      "Epoch 5/100\n",
      "17/17 [==============================] - 2s 106ms/step - loss: 0.0034\n",
      "Epoch 6/100\n",
      "17/17 [==============================] - 2s 95ms/step - loss: 0.0031\n",
      "Epoch 7/100\n",
      "17/17 [==============================] - 2s 94ms/step - loss: 0.0039\n",
      "Epoch 8/100\n",
      "17/17 [==============================] - 2s 96ms/step - loss: 0.0034\n",
      "Epoch 9/100\n",
      "17/17 [==============================] - 2s 96ms/step - loss: 0.0028\n",
      "Epoch 10/100\n",
      "17/17 [==============================] - 2s 101ms/step - loss: 0.0027\n",
      "Epoch 11/100\n",
      "17/17 [==============================] - 2s 99ms/step - loss: 0.0025\n",
      "Epoch 12/100\n",
      "17/17 [==============================] - 1s 88ms/step - loss: 0.0027\n",
      "Epoch 13/100\n",
      "17/17 [==============================] - 2s 93ms/step - loss: 0.0025\n",
      "Epoch 14/100\n",
      "17/17 [==============================] - 2s 96ms/step - loss: 0.0029\n",
      "Epoch 15/100\n",
      "17/17 [==============================] - 2s 102ms/step - loss: 0.0021\n",
      "Epoch 16/100\n",
      "17/17 [==============================] - 2s 106ms/step - loss: 0.0021\n",
      "Epoch 17/100\n",
      "17/17 [==============================] - 2s 93ms/step - loss: 0.0019: 0s - loss: 0.001\n",
      "Epoch 18/100\n",
      "17/17 [==============================] - 2s 120ms/step - loss: 0.0021\n",
      "Epoch 19/100\n",
      "17/17 [==============================] - 2s 112ms/step - loss: 0.0017\n",
      "Epoch 20/100\n",
      "17/17 [==============================] - 2s 97ms/step - loss: 0.0016\n",
      "Epoch 21/100\n",
      "17/17 [==============================] - 2s 89ms/step - loss: 0.0016\n",
      "Epoch 22/100\n",
      "17/17 [==============================] - 2s 90ms/step - loss: 0.0014\n",
      "Epoch 23/100\n",
      "17/17 [==============================] - 2s 98ms/step - loss: 0.0013\n",
      "Epoch 24/100\n",
      "17/17 [==============================] - 2s 110ms/step - loss: 0.0015\n",
      "Epoch 25/100\n",
      "17/17 [==============================] - 2s 117ms/step - loss: 0.0014\n",
      "Epoch 26/100\n",
      "17/17 [==============================] - 2s 93ms/step - loss: 0.0011\n",
      "Epoch 27/100\n",
      "17/17 [==============================] - 2s 109ms/step - loss: 0.0012\n",
      "Epoch 28/100\n",
      "17/17 [==============================] - 2s 103ms/step - loss: 0.0010\n",
      "Epoch 29/100\n",
      "17/17 [==============================] - 2s 98ms/step - loss: 0.0015\n",
      "Epoch 30/100\n",
      "17/17 [==============================] - 2s 96ms/step - loss: 0.0013\n",
      "Epoch 31/100\n",
      "17/17 [==============================] - 2s 91ms/step - loss: 0.0011\n",
      "Epoch 32/100\n",
      "17/17 [==============================] - 2s 97ms/step - loss: 0.0011\n",
      "Epoch 33/100\n",
      "17/17 [==============================] - 2s 97ms/step - loss: 9.5640e-04\n",
      "Epoch 34/100\n",
      "17/17 [==============================] - 2s 97ms/step - loss: 9.5620e-04\n",
      "Epoch 35/100\n",
      "17/17 [==============================] - 2s 98ms/step - loss: 0.0011\n",
      "Epoch 36/100\n",
      "17/17 [==============================] - 2s 138ms/step - loss: 0.0011\n",
      "Epoch 37/100\n",
      "17/17 [==============================] - 2s 117ms/step - loss: 9.5666e-04\n",
      "Epoch 38/100\n",
      "17/17 [==============================] - 2s 105ms/step - loss: 8.8660e-04\n",
      "Epoch 39/100\n",
      "17/17 [==============================] - 2s 105ms/step - loss: 9.0547e-04\n",
      "Epoch 40/100\n",
      "17/17 [==============================] - 2s 99ms/step - loss: 9.1196e-04\n",
      "Epoch 41/100\n",
      "17/17 [==============================] - 2s 101ms/step - loss: 0.0010\n",
      "Epoch 42/100\n",
      "17/17 [==============================] - 2s 103ms/step - loss: 9.9954e-04\n",
      "Epoch 43/100\n",
      "17/17 [==============================] - 2s 98ms/step - loss: 9.0960e-04\n",
      "Epoch 44/100\n",
      "17/17 [==============================] - 2s 92ms/step - loss: 8.5310e-04\n",
      "Epoch 45/100\n",
      "17/17 [==============================] - 2s 94ms/step - loss: 0.0011\n",
      "Epoch 46/100\n",
      "17/17 [==============================] - 2s 99ms/step - loss: 0.0012\n",
      "Epoch 47/100\n",
      "17/17 [==============================] - 2s 97ms/step - loss: 0.0010\n",
      "Epoch 48/100\n",
      "17/17 [==============================] - 2s 96ms/step - loss: 8.0431e-04\n",
      "Epoch 49/100\n",
      "17/17 [==============================] - 2s 88ms/step - loss: 7.8114e-04\n",
      "Epoch 50/100\n",
      "17/17 [==============================] - 2s 94ms/step - loss: 7.9339e-04\n",
      "Epoch 51/100\n",
      "17/17 [==============================] - 2s 98ms/step - loss: 9.0111e-04\n",
      "Epoch 52/100\n",
      "17/17 [==============================] - 2s 101ms/step - loss: 0.0010 1s - \n",
      "Epoch 53/100\n",
      "17/17 [==============================] - 2s 98ms/step - loss: 0.0010\n",
      "Epoch 54/100\n",
      "17/17 [==============================] - 2s 91ms/step - loss: 0.0011\n",
      "Epoch 55/100\n",
      "17/17 [==============================] - 2s 118ms/step - loss: 7.6077e-04\n",
      "Epoch 56/100\n",
      "17/17 [==============================] - 2s 99ms/step - loss: 7.5785e-04\n",
      "Epoch 57/100\n",
      "17/17 [==============================] - 2s 96ms/step - loss: 7.4896e-04\n",
      "Epoch 58/100\n",
      "17/17 [==============================] - 2s 89ms/step - loss: 0.0010\n",
      "Epoch 59/100\n",
      "17/17 [==============================] - 2s 91ms/step - loss: 7.6635e-04: 0s - loss: 8.2\n",
      "Epoch 60/100\n",
      "17/17 [==============================] - 2s 96ms/step - loss: 7.0093e-04\n",
      "Epoch 61/100\n",
      "17/17 [==============================] - 2s 100ms/step - loss: 7.7625e-04\n",
      "Epoch 62/100\n",
      "17/17 [==============================] - 2s 121ms/step - loss: 7.4796e-04\n",
      "Epoch 63/100\n",
      "17/17 [==============================] - 2s 90ms/step - loss: 6.6607e-04\n",
      "Epoch 64/100\n",
      "17/17 [==============================] - 2s 96ms/step - loss: 7.1048e-04\n",
      "Epoch 65/100\n",
      "17/17 [==============================] - 2s 103ms/step - loss: 7.1393e-04\n",
      "Epoch 66/100\n",
      "17/17 [==============================] - 2s 98ms/step - loss: 7.1533e-04\n",
      "Epoch 67/100\n",
      "17/17 [==============================] - 2s 106ms/step - loss: 6.8150e-04\n",
      "Epoch 68/100\n",
      "17/17 [==============================] - 2s 94ms/step - loss: 8.3031e-04: 0s - loss\n",
      "Epoch 69/100\n",
      "17/17 [==============================] - 2s 99ms/step - loss: 8.7743e-04\n",
      "Epoch 70/100\n",
      "17/17 [==============================] - 2s 99ms/step - loss: 9.7322e-04\n",
      "Epoch 71/100\n",
      "17/17 [==============================] - 2s 93ms/step - loss: 8.2986e-04\n",
      "Epoch 72/100\n",
      "17/17 [==============================] - 2s 93ms/step - loss: 8.5762e-04\n",
      "Epoch 73/100\n",
      "17/17 [==============================] - 2s 93ms/step - loss: 7.1267e-04\n",
      "Epoch 74/100\n",
      "17/17 [==============================] - 2s 106ms/step - loss: 6.7835e-04\n",
      "Epoch 75/100\n",
      "17/17 [==============================] - 2s 103ms/step - loss: 5.8764e-04\n",
      "Epoch 76/100\n",
      "17/17 [==============================] - 2s 90ms/step - loss: 5.8555e-04\n",
      "Epoch 77/100\n",
      "17/17 [==============================] - 2s 92ms/step - loss: 6.2996e-04: 0s - loss: 6.3987\n",
      "Epoch 78/100\n",
      "17/17 [==============================] - 2s 96ms/step - loss: 6.1157e-04\n",
      "Epoch 79/100\n",
      "17/17 [==============================] - 2s 102ms/step - loss: 7.3543e-04\n",
      "Epoch 80/100\n",
      "17/17 [==============================] - 2s 102ms/step - loss: 6.8198e-04\n",
      "Epoch 81/100\n",
      "17/17 [==============================] - 2s 91ms/step - loss: 7.2580e-04\n",
      "Epoch 82/100\n",
      "17/17 [==============================] - 2s 100ms/step - loss: 5.9261e-04\n",
      "Epoch 83/100\n",
      "17/17 [==============================] - 2s 97ms/step - loss: 6.0782e-04\n",
      "Epoch 84/100\n",
      "17/17 [==============================] - 2s 104ms/step - loss: 5.9822e-04\n",
      "Epoch 85/100\n",
      "17/17 [==============================] - 2s 95ms/step - loss: 6.0415e-04\n",
      "Epoch 86/100\n",
      "17/17 [==============================] - 1s 86ms/step - loss: 6.4834e-04\n",
      "Epoch 87/100\n",
      "17/17 [==============================] - 2s 94ms/step - loss: 6.6874e-04\n",
      "Epoch 88/100\n",
      "17/17 [==============================] - 2s 94ms/step - loss: 6.1579e-04\n",
      "Epoch 89/100\n",
      "17/17 [==============================] - 2s 92ms/step - loss: 7.9441e-04\n",
      "Epoch 90/100\n",
      "17/17 [==============================] - 1s 85ms/step - loss: 8.0923e-04\n",
      "Epoch 91/100\n",
      "17/17 [==============================] - 2s 92ms/step - loss: 7.5708e-04\n",
      "Epoch 92/100\n",
      "17/17 [==============================] - 2s 92ms/step - loss: 5.9516e-04\n",
      "Epoch 93/100\n",
      "17/17 [==============================] - 2s 91ms/step - loss: 6.4262e-04\n",
      "Epoch 94/100\n",
      "17/17 [==============================] - 2s 114ms/step - loss: 6.0921e-04\n",
      "Epoch 95/100\n",
      "17/17 [==============================] - 2s 114ms/step - loss: 5.5843e-04\n",
      "Epoch 96/100\n",
      "17/17 [==============================] - 2s 103ms/step - loss: 5.6969e-04\n",
      "Epoch 97/100\n"
     ]
    },
    {
     "name": "stdout",
     "output_type": "stream",
     "text": [
      "17/17 [==============================] - 2s 126ms/step - loss: 6.4725e-04\n",
      "Epoch 98/100\n",
      "17/17 [==============================] - 2s 103ms/step - loss: 5.9661e-04\n",
      "Epoch 99/100\n",
      "17/17 [==============================] - 2s 88ms/step - loss: 6.2439e-04\n",
      "Epoch 100/100\n",
      "17/17 [==============================] - 2s 95ms/step - loss: 6.1898e-04\n"
     ]
    },
    {
     "data": {
      "text/plain": [
       "<keras.callbacks.History at 0x183fd0321c0>"
      ]
     },
     "execution_count": 10,
     "metadata": {},
     "output_type": "execute_result"
    }
   ],
   "source": [
    "regressor.compile(optimizer = 'adam', loss = 'mean_squared_error')\n",
    "regressor.fit(x_train,y_train,epochs = 100, batch_size = 32)"
   ]
  },
  {
   "cell_type": "code",
   "execution_count": 13,
   "id": "20b476ec",
   "metadata": {},
   "outputs": [
    {
     "ename": "ParserError",
     "evalue": "Error tokenizing data. C error: Expected 1 fields in line 3, saw 3\n",
     "output_type": "error",
     "traceback": [
      "\u001b[1;31m---------------------------------------------------------------------------\u001b[0m",
      "\u001b[1;31mParserError\u001b[0m                               Traceback (most recent call last)",
      "\u001b[1;32m<ipython-input-13-c582be10c71e>\u001b[0m in \u001b[0;36m<module>\u001b[1;34m\u001b[0m\n\u001b[1;32m----> 1\u001b[1;33m \u001b[0mdata_test\u001b[0m \u001b[1;33m=\u001b[0m \u001b[0mpd\u001b[0m\u001b[1;33m.\u001b[0m\u001b[0mread_csv\u001b[0m\u001b[1;33m(\u001b[0m\u001b[1;34m\"TSLA_test.csv\"\u001b[0m\u001b[1;33m)\u001b[0m\u001b[1;33m\u001b[0m\u001b[1;33m\u001b[0m\u001b[0m\n\u001b[0m\u001b[0;32m      2\u001b[0m \u001b[0mx_test\u001b[0m \u001b[1;33m=\u001b[0m \u001b[0mdata_test\u001b[0m\u001b[1;33m.\u001b[0m\u001b[0miloc\u001b[0m\u001b[1;33m[\u001b[0m\u001b[1;33m:\u001b[0m\u001b[1;33m,\u001b[0m\u001b[1;36m3\u001b[0m\u001b[1;33m]\u001b[0m\u001b[1;33m.\u001b[0m\u001b[0mvalues\u001b[0m\u001b[1;33m\u001b[0m\u001b[1;33m\u001b[0m\u001b[0m\n\u001b[0;32m      3\u001b[0m \u001b[0mdata_total\u001b[0m \u001b[1;33m=\u001b[0m \u001b[0mpd\u001b[0m\u001b[1;33m.\u001b[0m\u001b[0mconcat\u001b[0m\u001b[1;33m(\u001b[0m\u001b[1;33m(\u001b[0m\u001b[0mdata\u001b[0m\u001b[1;33m[\u001b[0m\u001b[1;34m'open'\u001b[0m\u001b[1;33m]\u001b[0m\u001b[1;33m,\u001b[0m\u001b[0mdata_test\u001b[0m\u001b[1;33m[\u001b[0m\u001b[1;34m'open'\u001b[0m\u001b[1;33m]\u001b[0m\u001b[1;33m)\u001b[0m\u001b[1;33m,\u001b[0m\u001b[0maxis\u001b[0m \u001b[1;33m=\u001b[0m \u001b[1;36m0\u001b[0m\u001b[1;33m)\u001b[0m\u001b[1;33m\u001b[0m\u001b[1;33m\u001b[0m\u001b[0m\n\u001b[0;32m      4\u001b[0m \u001b[0minputs\u001b[0m \u001b[1;33m=\u001b[0m \u001b[0mdata_total\u001b[0m\u001b[1;33m[\u001b[0m\u001b[0mlen\u001b[0m\u001b[1;33m(\u001b[0m\u001b[0mdata_total\u001b[0m\u001b[1;33m)\u001b[0m\u001b[1;33m-\u001b[0m\u001b[0mlen\u001b[0m\u001b[1;33m(\u001b[0m\u001b[0mdata_test\u001b[0m\u001b[1;33m)\u001b[0m\u001b[1;33m-\u001b[0m\u001b[1;36m60\u001b[0m\u001b[1;33m]\u001b[0m\u001b[1;33m.\u001b[0m\u001b[0mvalues\u001b[0m\u001b[1;33m\u001b[0m\u001b[1;33m\u001b[0m\u001b[0m\n\u001b[0;32m      5\u001b[0m \u001b[1;33m\u001b[0m\u001b[0m\n",
      "\u001b[1;32m~\\anaconda3\\lib\\site-packages\\pandas\\io\\parsers.py\u001b[0m in \u001b[0;36mread_csv\u001b[1;34m(filepath_or_buffer, sep, delimiter, header, names, index_col, usecols, squeeze, prefix, mangle_dupe_cols, dtype, engine, converters, true_values, false_values, skipinitialspace, skiprows, skipfooter, nrows, na_values, keep_default_na, na_filter, verbose, skip_blank_lines, parse_dates, infer_datetime_format, keep_date_col, date_parser, dayfirst, cache_dates, iterator, chunksize, compression, thousands, decimal, lineterminator, quotechar, quoting, doublequote, escapechar, comment, encoding, dialect, error_bad_lines, warn_bad_lines, delim_whitespace, low_memory, memory_map, float_precision, storage_options)\u001b[0m\n\u001b[0;32m    608\u001b[0m     \u001b[0mkwds\u001b[0m\u001b[1;33m.\u001b[0m\u001b[0mupdate\u001b[0m\u001b[1;33m(\u001b[0m\u001b[0mkwds_defaults\u001b[0m\u001b[1;33m)\u001b[0m\u001b[1;33m\u001b[0m\u001b[1;33m\u001b[0m\u001b[0m\n\u001b[0;32m    609\u001b[0m \u001b[1;33m\u001b[0m\u001b[0m\n\u001b[1;32m--> 610\u001b[1;33m     \u001b[1;32mreturn\u001b[0m \u001b[0m_read\u001b[0m\u001b[1;33m(\u001b[0m\u001b[0mfilepath_or_buffer\u001b[0m\u001b[1;33m,\u001b[0m \u001b[0mkwds\u001b[0m\u001b[1;33m)\u001b[0m\u001b[1;33m\u001b[0m\u001b[1;33m\u001b[0m\u001b[0m\n\u001b[0m\u001b[0;32m    611\u001b[0m \u001b[1;33m\u001b[0m\u001b[0m\n\u001b[0;32m    612\u001b[0m \u001b[1;33m\u001b[0m\u001b[0m\n",
      "\u001b[1;32m~\\anaconda3\\lib\\site-packages\\pandas\\io\\parsers.py\u001b[0m in \u001b[0;36m_read\u001b[1;34m(filepath_or_buffer, kwds)\u001b[0m\n\u001b[0;32m    466\u001b[0m \u001b[1;33m\u001b[0m\u001b[0m\n\u001b[0;32m    467\u001b[0m     \u001b[1;32mwith\u001b[0m \u001b[0mparser\u001b[0m\u001b[1;33m:\u001b[0m\u001b[1;33m\u001b[0m\u001b[1;33m\u001b[0m\u001b[0m\n\u001b[1;32m--> 468\u001b[1;33m         \u001b[1;32mreturn\u001b[0m \u001b[0mparser\u001b[0m\u001b[1;33m.\u001b[0m\u001b[0mread\u001b[0m\u001b[1;33m(\u001b[0m\u001b[0mnrows\u001b[0m\u001b[1;33m)\u001b[0m\u001b[1;33m\u001b[0m\u001b[1;33m\u001b[0m\u001b[0m\n\u001b[0m\u001b[0;32m    469\u001b[0m \u001b[1;33m\u001b[0m\u001b[0m\n\u001b[0;32m    470\u001b[0m \u001b[1;33m\u001b[0m\u001b[0m\n",
      "\u001b[1;32m~\\anaconda3\\lib\\site-packages\\pandas\\io\\parsers.py\u001b[0m in \u001b[0;36mread\u001b[1;34m(self, nrows)\u001b[0m\n\u001b[0;32m   1055\u001b[0m     \u001b[1;32mdef\u001b[0m \u001b[0mread\u001b[0m\u001b[1;33m(\u001b[0m\u001b[0mself\u001b[0m\u001b[1;33m,\u001b[0m \u001b[0mnrows\u001b[0m\u001b[1;33m=\u001b[0m\u001b[1;32mNone\u001b[0m\u001b[1;33m)\u001b[0m\u001b[1;33m:\u001b[0m\u001b[1;33m\u001b[0m\u001b[1;33m\u001b[0m\u001b[0m\n\u001b[0;32m   1056\u001b[0m         \u001b[0mnrows\u001b[0m \u001b[1;33m=\u001b[0m \u001b[0mvalidate_integer\u001b[0m\u001b[1;33m(\u001b[0m\u001b[1;34m\"nrows\"\u001b[0m\u001b[1;33m,\u001b[0m \u001b[0mnrows\u001b[0m\u001b[1;33m)\u001b[0m\u001b[1;33m\u001b[0m\u001b[1;33m\u001b[0m\u001b[0m\n\u001b[1;32m-> 1057\u001b[1;33m         \u001b[0mindex\u001b[0m\u001b[1;33m,\u001b[0m \u001b[0mcolumns\u001b[0m\u001b[1;33m,\u001b[0m \u001b[0mcol_dict\u001b[0m \u001b[1;33m=\u001b[0m \u001b[0mself\u001b[0m\u001b[1;33m.\u001b[0m\u001b[0m_engine\u001b[0m\u001b[1;33m.\u001b[0m\u001b[0mread\u001b[0m\u001b[1;33m(\u001b[0m\u001b[0mnrows\u001b[0m\u001b[1;33m)\u001b[0m\u001b[1;33m\u001b[0m\u001b[1;33m\u001b[0m\u001b[0m\n\u001b[0m\u001b[0;32m   1058\u001b[0m \u001b[1;33m\u001b[0m\u001b[0m\n\u001b[0;32m   1059\u001b[0m         \u001b[1;32mif\u001b[0m \u001b[0mindex\u001b[0m \u001b[1;32mis\u001b[0m \u001b[1;32mNone\u001b[0m\u001b[1;33m:\u001b[0m\u001b[1;33m\u001b[0m\u001b[1;33m\u001b[0m\u001b[0m\n",
      "\u001b[1;32m~\\anaconda3\\lib\\site-packages\\pandas\\io\\parsers.py\u001b[0m in \u001b[0;36mread\u001b[1;34m(self, nrows)\u001b[0m\n\u001b[0;32m   2059\u001b[0m     \u001b[1;32mdef\u001b[0m \u001b[0mread\u001b[0m\u001b[1;33m(\u001b[0m\u001b[0mself\u001b[0m\u001b[1;33m,\u001b[0m \u001b[0mnrows\u001b[0m\u001b[1;33m=\u001b[0m\u001b[1;32mNone\u001b[0m\u001b[1;33m)\u001b[0m\u001b[1;33m:\u001b[0m\u001b[1;33m\u001b[0m\u001b[1;33m\u001b[0m\u001b[0m\n\u001b[0;32m   2060\u001b[0m         \u001b[1;32mtry\u001b[0m\u001b[1;33m:\u001b[0m\u001b[1;33m\u001b[0m\u001b[1;33m\u001b[0m\u001b[0m\n\u001b[1;32m-> 2061\u001b[1;33m             \u001b[0mdata\u001b[0m \u001b[1;33m=\u001b[0m \u001b[0mself\u001b[0m\u001b[1;33m.\u001b[0m\u001b[0m_reader\u001b[0m\u001b[1;33m.\u001b[0m\u001b[0mread\u001b[0m\u001b[1;33m(\u001b[0m\u001b[0mnrows\u001b[0m\u001b[1;33m)\u001b[0m\u001b[1;33m\u001b[0m\u001b[1;33m\u001b[0m\u001b[0m\n\u001b[0m\u001b[0;32m   2062\u001b[0m         \u001b[1;32mexcept\u001b[0m \u001b[0mStopIteration\u001b[0m\u001b[1;33m:\u001b[0m\u001b[1;33m\u001b[0m\u001b[1;33m\u001b[0m\u001b[0m\n\u001b[0;32m   2063\u001b[0m             \u001b[1;32mif\u001b[0m \u001b[0mself\u001b[0m\u001b[1;33m.\u001b[0m\u001b[0m_first_chunk\u001b[0m\u001b[1;33m:\u001b[0m\u001b[1;33m\u001b[0m\u001b[1;33m\u001b[0m\u001b[0m\n",
      "\u001b[1;32mpandas\\_libs\\parsers.pyx\u001b[0m in \u001b[0;36mpandas._libs.parsers.TextReader.read\u001b[1;34m()\u001b[0m\n",
      "\u001b[1;32mpandas\\_libs\\parsers.pyx\u001b[0m in \u001b[0;36mpandas._libs.parsers.TextReader._read_low_memory\u001b[1;34m()\u001b[0m\n",
      "\u001b[1;32mpandas\\_libs\\parsers.pyx\u001b[0m in \u001b[0;36mpandas._libs.parsers.TextReader._read_rows\u001b[1;34m()\u001b[0m\n",
      "\u001b[1;32mpandas\\_libs\\parsers.pyx\u001b[0m in \u001b[0;36mpandas._libs.parsers.TextReader._tokenize_rows\u001b[1;34m()\u001b[0m\n",
      "\u001b[1;32mpandas\\_libs\\parsers.pyx\u001b[0m in \u001b[0;36mpandas._libs.parsers.raise_parser_error\u001b[1;34m()\u001b[0m\n",
      "\u001b[1;31mParserError\u001b[0m: Error tokenizing data. C error: Expected 1 fields in line 3, saw 3\n"
     ]
    }
   ],
   "source": [
    "data_test = pd.read_csv(\"TSLA_test.csv\")\n",
    "x_test = data_test.iloc[:,3].values\n",
    "data_total = pd.concat((data['open'],data_test['open']),axis = 0)\n",
    "inputs = data_total[len(data_total)-len(data_test)-60].values\n",
    "\n",
    "inputs = inputs.reshape(-1,1)\n",
    "inputs = scaler.transform(inputs)\n",
    "\n"
   ]
  }
 ],
 "metadata": {
  "kernelspec": {
   "display_name": "Python 3",
   "language": "python",
   "name": "python3"
  },
  "language_info": {
   "codemirror_mode": {
    "name": "ipython",
    "version": 3
   },
   "file_extension": ".py",
   "mimetype": "text/x-python",
   "name": "python",
   "nbconvert_exporter": "python",
   "pygments_lexer": "ipython3",
   "version": "3.8.8"
  }
 },
 "nbformat": 4,
 "nbformat_minor": 5
}
